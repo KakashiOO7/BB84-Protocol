{
 "cells": [
  {
   "cell_type": "code",
   "execution_count": 8,
   "metadata": {},
   "outputs": [],
   "source": [
    "from qiskit import QuantumCircuit, execute, Aer\n",
    "from qiskit.visualization import plot_histogram, plot_bloch_multivector\n",
    "from numpy.random import randint\n",
    "import numpy as np\n",
    "from qiskit.providers.aer import QasmSimulator"
   ]
  },
  {
   "cell_type": "code",
   "execution_count": 17,
   "metadata": {},
   "outputs": [],
   "source": [
    "\n",
    "num_qubits = 8\n"
   ]
  },
  {
   "cell_type": "code",
   "execution_count": 18,
   "metadata": {},
   "outputs": [],
   "source": [
    "def alice_side(num_qubits,random):\n",
    "    alice_state = np.random.randint(2, size=num_qubits)\n",
    "    if random ==True:\n",
    "        alice_basis = np.random.randint(2, size=num_qubits)\n",
    "    else:\n",
    "        alice_basis = []\n",
    "        print(\"choose 1 for Hadamard Basis & 0 for Computational Basis\")\n",
    "        for i in range(num_qubits):\n",
    "            x = int(input(\">>\"))\n",
    "            alice_basis.append(x)\n",
    "            \n",
    "        \n",
    "    return alice_state,alice_basis"
   ]
  },
  {
   "cell_type": "code",
   "execution_count": 19,
   "metadata": {},
   "outputs": [],
   "source": [
    "def bob_side(num_qubits,random):\n",
    "    if random==True:\n",
    "        bob_basis = np.random.randint(2, size=num_qubits)\n",
    "    else:\n",
    "        bob_basis=[]\n",
    "        print(\"choose 1 for Hadamard Basis & 0 for Computational Basis\")\n",
    "        for i in range(num_qubits):\n",
    "            y = int(input(\">>\"))\n",
    "            bob_basis.append(y)\n",
    "            \n",
    "            \n",
    "    return bob_basis\n",
    "        "
   ]
  },
  {
   "cell_type": "code",
   "execution_count": 20,
   "metadata": {},
   "outputs": [],
   "source": [
    "alice_state_nBasis=alice_side(8,True)\n",
    "bobs_measurement_basis = bob_side(8,True)"
   ]
  },
  {
   "cell_type": "code",
   "execution_count": 21,
   "metadata": {},
   "outputs": [],
   "source": [
    "def bb84_circuit(state, basis, measurement_basis):\n",
    "    '''\n",
    "    #state: array of 0s and 1s denoting the state to be encoded\n",
    "    #basis: array of 0s and 1s denoting the basis to be used for encoding\n",
    "                #0 -> Computational Basis\n",
    "                #1 -> Hadamard Basis\n",
    "    #meas_basis: array of 0s and 1s denoting the basis to be used for measurement\n",
    "                #0 -> Computational Basis\n",
    "                #1 -> Hadamard Basis\n",
    "    '''\n",
    "    num_qubits = len(state)\n",
    "    \n",
    "    circuit = QuantumCircuit(num_qubits)\n",
    "\n",
    "    # Sender prepares qubits\n",
    "    for i in range(len(basis)):\n",
    "        if state[i] == 1:\n",
    "            circuit.x(i)\n",
    "        if basis[i] == 1:\n",
    "            circuit.h(i)\n",
    "   \n",
    "\n",
    "    # Measuring action performed by Bob\n",
    "    for i in range(len(measurement_basis)):\n",
    "        if measurement_basis[i] == 1:\n",
    "            circuit.h(i)\n",
    "\n",
    "    circuit.measure_all()\n",
    "    \n",
    "    return circuit"
   ]
  },
  {
   "cell_type": "code",
   "execution_count": 22,
   "metadata": {},
   "outputs": [
    {
     "name": "stdout",
     "output_type": "stream",
     "text": [
      "[1 1 0 1 0 0 0 1]\n"
     ]
    }
   ],
   "source": [
    "print(alice_state_nBasis[0])"
   ]
  },
  {
   "cell_type": "code",
   "execution_count": 23,
   "metadata": {},
   "outputs": [
    {
     "name": "stdout",
     "output_type": "stream",
     "text": [
      "[0 0 1 1 0 1 1 1]\n"
     ]
    }
   ],
   "source": [
    "print(alice_state_nBasis[1])"
   ]
  },
  {
   "cell_type": "code",
   "execution_count": 24,
   "metadata": {},
   "outputs": [
    {
     "name": "stdout",
     "output_type": "stream",
     "text": [
      "[0 1 0 0 0 0 1 1]\n"
     ]
    }
   ],
   "source": [
    "print(bobs_measurement_basis)"
   ]
  },
  {
   "cell_type": "code",
   "execution_count": 25,
   "metadata": {},
   "outputs": [
    {
     "data": {
      "image/png": "[encoded data removed]",
      "text/plain": [
       "<Figure size 839.279x565.88 with 1 Axes>"
      ]
     },
     "execution_count": 25,
     "metadata": {},
     "output_type": "execute_result"
    }
   ],
   "source": [
    "circuit = bb84_circuit(alice_state_nBasis[0], alice_state_nBasis[1], bobs_measurement_basis)\n",
    "circuit.draw('mpl')"
   ]
  },
  {
   "cell_type": "code",
   "execution_count": 27,
   "metadata": {},
   "outputs": [
    {
     "name": "stdout",
     "output_type": "stream",
     "text": [
      "Key: 10000001\n"
     ]
    }
   ],
   "source": [
    "circuit = bb84_circuit(alice_state_nBasis[0], alice_state_nBasis[1], bobs_measurement_basis)\n",
    "key = execute(circuit,backend=QasmSimulator(),shots=1).result().get_counts().most_frequent()\n",
    "encryption_key = ''\n",
    "#print(key)\n",
    "\n",
    "for i in range(num_qubits):\n",
    "    if alice_state_nBasis[1][i] == bobs_measurement_basis[i]:\n",
    "        encryption_key += str(key[num_qubits -1-i])\n",
    "    else:\n",
    "        encryption_key += str(0)\n",
    "        \n",
    "print(f\"Key: {encryption_key}\")"
   ]
  },
  {
   "cell_type": "code",
   "execution_count": null,
   "metadata": {},
   "outputs": [],
   "source": []
  },
  {
   "cell_type": "code",
   "execution_count": null,
   "metadata": {},
   "outputs": [],
   "source": []
  }
 ],
 "metadata": {
  "kernelspec": {
   "display_name": "Python 3",
   "language": "python",
   "name": "python3"
  },
  "language_info": {
   "codemirror_mode": {
    "name": "ipython",
    "version": 3
   },
   "file_extension": ".py",
   "mimetype": "text/x-python",
   "name": "python",
   "nbconvert_exporter": "python",
   "pygments_lexer": "ipython3",
   "version": "3.8.3"
  }
 },
 "nbformat": 4,
 "nbformat_minor": 4
}
